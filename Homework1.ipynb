{
 "cells": [
  {
   "cell_type": "code",
   "execution_count": 25,
   "metadata": {},
   "outputs": [],
   "source": [
    "import numpy as np\n",
    "import cv2\n",
    "from matplotlib import pyplot as plt\n",
    "import cv2\n",
    "import numpy as np \n",
    "\n",
    "\n",
    "click = False     # Mouse 클릭된 상태 (false = 클릭 x / true = 클릭 o) : 마우스 눌렀을때 true로, 뗏을때 false로\n",
    "x1,y1 = -1,-1\n",
    "def nothing(x):\n",
    "    pass\n",
    "# Mouse Callback함수 : 파라미터는 고정됨.\n",
    "def draw_rectangle(event, x, y, flags, param):\n",
    "    global x1,y1, click                                     # 전역변수 사용\n",
    "    global img\n",
    "    \n",
    "    if event == cv2.EVENT_LBUTTONDOWN:                      # 마우스를 누른 상태\n",
    "        click = True \n",
    "        x1, y1 = x,y\n",
    "\t\t\n",
    "    elif event == cv2.EVENT_MOUSEMOVE:                      # 마우스 이동\n",
    "        if click == True:                                   # 마우스를 누른 상태 일경우\n",
    "            cv2.rectangle(img,(x1,y1),(x,y),(255,0,0),-1)\n",
    "            #cv2.circle(img,(x,y),5,(0,255,0),-1)\n",
    "            font = cv2.FONT_HERSHEY_SIMPLEX\n",
    "            image = cv2.imread('images.jpg')\n",
    "            img = image\n",
    "            cv2.putText(img,\"Mouse position (\" + str(x1) + \", \" + str(y1) + \") - (\" + str(x) + \", \" + str(y) + \")\",(10,40),font, 1, (255,255,255),2,cv2.LINE_AA)\n",
    "            \n",
    "            \n",
    "\n",
    "    elif event == cv2.EVENT_LBUTTONUP:\n",
    "        click = False;                                      # 마우스를 때면 상태 변경\n",
    "        cv2.rectangle(img,(x1,y1),(x,y),(255,0,0),-1)\n",
    "\t#cv2.circle(img,(x,y),5,(0,255,0),-1)\n",
    "\n",
    "# 캔버스, MouseCallback 함수 설정\n",
    "image = cv2.imread('images.jpg')\n",
    "img = image\n",
    "#img = cv2.imread('car.jpg')\n",
    "cv2.namedWindow('image')\n",
    "cv2.setMouseCallback('image',draw_rectangle)                # 마우스 이벤트 후 callback 수행하는 함수 지정\n",
    "cv2.createTrackbar('value','image',0,10000,nothing)\n",
    "# main문 : 키보드로 esc를 받을때까지 화면을 계속 보여준다.\n",
    "while True:\n",
    "    cv2.imshow('image', img)    # 화면을 보여준다.\n",
    "\n",
    "    k = cv2.waitKey(1) & 0xFF   # 키보드 입력값을 받고\n",
    "        \n",
    "    if k == 27:               # esc를 누르면 종료\n",
    "        break\n",
    "\n",
    "cv2.destroyAllWindows()"
   ]
  }
 ],
 "metadata": {
  "kernelspec": {
   "display_name": "base",
   "language": "python",
   "name": "python3"
  },
  "language_info": {
   "codemirror_mode": {
    "name": "ipython",
    "version": 3
   },
   "file_extension": ".py",
   "mimetype": "text/x-python",
   "name": "python",
   "nbconvert_exporter": "python",
   "pygments_lexer": "ipython3",
   "version": "3.8.17"
  },
  "orig_nbformat": 4
 },
 "nbformat": 4,
 "nbformat_minor": 2
}
