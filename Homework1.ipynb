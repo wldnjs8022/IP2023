import numpy as np
import cv2
from matplotlib import pyplot as plt
import cv2
import numpy as np 


click = False     # Mouse 클릭된 상태 (false = 클릭 x / true = 클릭 o) : 마우스 눌렀을때 true로, 뗏을때 false로
x1,y1 = -1,-1
def nothing(x):
    pass
# Mouse Callback함수 : 파라미터는 고정됨.
def draw_rectangle(event, x, y, flags, param):
    global x1,y1, click                                     # 전역변수 사용
    global img
    
    if event == cv2.EVENT_LBUTTONDOWN:                      # 마우스를 누른 상태
        click = True 
        x1, y1 = x,y
		
    elif event == cv2.EVENT_MOUSEMOVE:                      # 마우스 이동
        if click == True:                                   # 마우스를 누른 상태 일경우
            cv2.rectangle(img,(x1,y1),(x,y),(255,0,0),-1)
            #cv2.circle(img,(x,y),5,(0,255,0),-1)
            font = cv2.FONT_HERSHEY_SIMPLEX
            image = cv2.imread('images.jpg')
            img = image
            cv2.putText(img,"Mouse position (" + str(x1) + ", " + str(y1) + ") - (" + str(x) + ", " + str(y) + ")",(10,40),font, 1, (255,255,255),2,cv2.LINE_AA)
            
            

    elif event == cv2.EVENT_LBUTTONUP:
        click = False;                                      # 마우스를 때면 상태 변경
        cv2.rectangle(img,(x1,y1),(x,y),(255,0,0),-1)
	#cv2.circle(img,(x,y),5,(0,255,0),-1)

# 캔버스, MouseCallback 함수 설정
image = cv2.imread('images.jpg')
img = image
#img = cv2.imread('car.jpg')
cv2.namedWindow('image')
cv2.setMouseCallback('image',draw_rectangle)                # 마우스 이벤트 후 callback 수행하는 함수 지정
cv2.createTrackbar('value','image',0,10000,nothing)
# main문 : 키보드로 esc를 받을때까지 화면을 계속 보여준다.
while True:
    cv2.imshow('image', img)    # 화면을 보여준다.

    k = cv2.waitKey(1) & 0xFF   # 키보드 입력값을 받고
        
    if k == 27:               # esc를 누르면 종료
        break

cv2.destroyAllWindows()
