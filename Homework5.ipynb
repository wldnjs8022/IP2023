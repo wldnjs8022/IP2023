{
 "cells": [
  {
   "cell_type": "code",
   "execution_count": 22,
   "metadata": {},
   "outputs": [],
   "source": [
    "import cv2\n",
    "from matplotlib import pyplot as plt"
   ]
  },
  {
   "cell_type": "code",
   "execution_count": 23,
   "metadata": {},
   "outputs": [],
   "source": [
    "cap = cv2.VideoCapture(\"monitoring_720p.avi\")\n",
    "img = cv2.imread(\"monitoring_720p.avi.png\", cv2.IMREAD_GRAYSCALE)"
   ]
  },
  {
   "cell_type": "code",
   "execution_count": 24,
   "metadata": {},
   "outputs": [
    {
     "ename": "error",
     "evalue": "OpenCV(4.8.1) D:\\a\\opencv-python\\opencv-python\\opencv\\modules\\features2d\\src\\draw.cpp:156: error: (-201:Incorrect size of input array) outImg has size less than need to draw img1 and img2 together in function 'cv::_prepareImgAndDrawKeypoints'\n",
     "output_type": "error",
     "traceback": [
      "\u001b[1;31m---------------------------------------------------------------------------\u001b[0m",
      "\u001b[1;31merror\u001b[0m                                     Traceback (most recent call last)",
      "\u001b[1;32mc:\\Users\\한지원\\Desktop\\IP2023\\Homework5.ipynb 셀 3\u001b[0m line \u001b[0;36m1\n\u001b[0;32m     <a href='vscode-notebook-cell:/c%3A/Users/%ED%95%9C%EC%A7%80%EC%9B%90/Desktop/IP2023/Homework5.ipynb#W2sZmlsZQ%3D%3D?line=11'>12</a>\u001b[0m matches \u001b[39m=\u001b[39m bf\u001b[39m.\u001b[39mmatch(des1, des2)\n\u001b[0;32m     <a href='vscode-notebook-cell:/c%3A/Users/%ED%95%9C%EC%A7%80%EC%9B%90/Desktop/IP2023/Homework5.ipynb#W2sZmlsZQ%3D%3D?line=12'>13</a>\u001b[0m matches \u001b[39m=\u001b[39m \u001b[39msorted\u001b[39m(matches, key \u001b[39m=\u001b[39m \u001b[39mlambda\u001b[39;00m x:x\u001b[39m.\u001b[39mdistance)\n\u001b[1;32m---> <a href='vscode-notebook-cell:/c%3A/Users/%ED%95%9C%EC%A7%80%EC%9B%90/Desktop/IP2023/Homework5.ipynb#W2sZmlsZQ%3D%3D?line=14'>15</a>\u001b[0m matching_result \u001b[39m=\u001b[39m cv2\u001b[39m.\u001b[39mdrawMatches(img, kp1, frame, kp2, matches[:\u001b[39m50\u001b[39m], \u001b[39mNone\u001b[39;00m, flags\u001b[39m=\u001b[39m\u001b[39m3\u001b[39m)\n\u001b[0;32m     <a href='vscode-notebook-cell:/c%3A/Users/%ED%95%9C%EC%A7%80%EC%9B%90/Desktop/IP2023/Homework5.ipynb#W2sZmlsZQ%3D%3D?line=16'>17</a>\u001b[0m cv2\u001b[39m.\u001b[39mimshow(\u001b[39m\"\u001b[39m\u001b[39mImg1\u001b[39m\u001b[39m\"\u001b[39m, img)\n\u001b[0;32m     <a href='vscode-notebook-cell:/c%3A/Users/%ED%95%9C%EC%A7%80%EC%9B%90/Desktop/IP2023/Homework5.ipynb#W2sZmlsZQ%3D%3D?line=17'>18</a>\u001b[0m cv2\u001b[39m.\u001b[39mimshow(\u001b[39m\"\u001b[39m\u001b[39mFrame\u001b[39m\u001b[39m\"\u001b[39m, frame)\n",
      "\u001b[1;31merror\u001b[0m: OpenCV(4.8.1) D:\\a\\opencv-python\\opencv-python\\opencv\\modules\\features2d\\src\\draw.cpp:156: error: (-201:Incorrect size of input array) outImg has size less than need to draw img1 and img2 together in function 'cv::_prepareImgAndDrawKeypoints'\n"
     ]
    }
   ],
   "source": [
    "while(True):\n",
    "    ret, frame = cap.read()\n",
    "    gray = cv2.cvtColor(frame, cv2.COLOR_BGR2GRAY)\n",
    "\n",
    "    # ORB Detector\n",
    "    orb = cv2.ORB_create()\n",
    "    kp1, des1 = orb.detectAndCompute(img, None)\n",
    "    kp2, des2 = orb.detectAndCompute(frame, None)\n",
    "\n",
    "    # Brute Force Matching\n",
    "    bf = cv2.BFMatcher(cv2.NORM_HAMMING, crossCheck=True)\n",
    "    matches = bf.match(des1, des2)\n",
    "    matches = sorted(matches, key = lambda x:x.distance)\n",
    "\n",
    "    matching_result = cv2.drawMatches(img, kp1, frame, kp2, matches[:50], None, flags=2)\n",
    "\n",
    "    cv2.imshow(\"Img1\", img)\n",
    "    cv2.imshow(\"Frame\", frame)\n",
    "    cv2.imshow(\"Matching result\", matching_result)\n",
    "\n",
    "    if cv2.waitKey(1) & 0xFF == ord('q'):\n",
    "        break"
   ]
  },
  {
   "cell_type": "code",
   "execution_count": null,
   "metadata": {},
   "outputs": [],
   "source": [
    "cap.release()\n",
    "cv2.destroyAllWindows()"
   ]
  }
 ],
 "metadata": {
  "kernelspec": {
   "display_name": "base",
   "language": "python",
   "name": "python3"
  },
  "language_info": {
   "codemirror_mode": {
    "name": "ipython",
    "version": 3
   },
   "file_extension": ".py",
   "mimetype": "text/x-python",
   "name": "python",
   "nbconvert_exporter": "python",
   "pygments_lexer": "ipython3",
   "version": "3.11.5"
  }
 },
 "nbformat": 4,
 "nbformat_minor": 2
}
